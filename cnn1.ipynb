{
 "cells": [
  {
   "cell_type": "code",
   "id": "0b268a61",
   "metadata": {
    "ExecuteTime": {
     "end_time": "2025-07-25T07:12:47.369026Z",
     "start_time": "2025-07-25T07:12:47.360123Z"
    }
   },
   "source": [
    "#import libraries\n",
    "import torch\n",
    "import torch.nn as nn\n",
    "import torch.nn.functional as F\n",
    "import numpy as np\n",
    "import matplotlib.pyplot as plt\n",
    "import pandas as pd\n",
    "import torch.optim as optim\n",
    "from torch.utils.data import DataLoader\n",
    "import torch.version\n",
    "from torchvision import datasets, transforms\n"
   ],
   "outputs": [],
   "execution_count": 16
  },
  {
   "cell_type": "code",
   "id": "0d52e8ba",
   "metadata": {
    "ExecuteTime": {
     "end_time": "2025-07-25T07:12:47.647269Z",
     "start_time": "2025-07-25T07:12:47.529535Z"
    }
   },
   "source": [
    "#tell how to transform the data \n",
    "transform = transforms.Compose([\n",
    "    transforms.Grayscale(),\n",
    "    transforms.Resize((28, 28)),\n",
    "    transforms.ToTensor(),\n",
    "    transforms.Normalize((0.5,), (0.5,))\n",
    "])\n",
    "\n",
    "#load the dataset\n",
    "\n",
    "train_dataset= datasets.MNIST(root='./data', train=True, download=True, transform=transform)\n",
    "test_dataset=datasets.MNIST(root='./data', train=False, download=True, transform=transform)\n",
    "\n",
    "#load the data into dataloader\n",
    "train_loader = DataLoader(train_dataset, batch_size=64, shuffle=True)\n",
    "test_loader = DataLoader(test_dataset, batch_size=64, shuffle=False)\n"
   ],
   "outputs": [],
   "execution_count": 17
  },
  {
   "cell_type": "code",
   "id": "983c479b",
   "metadata": {
    "ExecuteTime": {
     "end_time": "2025-07-25T07:12:47.782963Z",
     "start_time": "2025-07-25T07:12:47.773134Z"
    }
   },
   "source": [
    "#define cnn model\n",
    "\n",
    "class CNN(nn.Module):\n",
    "\n",
    "    def __init__(self):\n",
    "        super().__init__()\n",
    "        self.conv1= nn.Conv2d(1,32,kernel_size=3)\n",
    "        self.conv2=nn.Conv2d(32,64,kernel_size=3)\n",
    "        self.conv3=nn.Conv2d(64,128,kernel_size=3)\n",
    "        self.pool=nn.MaxPool2d(2,2)\n",
    "        self.dropout=nn.Dropout(0.25)\n",
    "        self.fc1 = nn.Linear(128 * 10 * 10, 256)\n",
    "        self.fc2 = nn.Linear(256,10)\n",
    "    \n",
    "    def forward(self, x):\n",
    "        x=torch.relu(self.conv1(x))\n",
    "        x=torch.relu(self.conv2(x))\n",
    "        x=self.pool(x)\n",
    "        x=torch.relu(self.conv3(x))\n",
    "        x=self.dropout(x)\n",
    "        x=x.view(-1, 128 * 10 * 10)\n",
    "        # x = x.view(x.size(0), -1)\n",
    "        x=torch.relu(self.fc1(x))\n",
    "        x=self.fc2(x)\n",
    "        return x\n"
   ],
   "outputs": [],
   "execution_count": 18
  },
  {
   "cell_type": "code",
   "id": "bdb8c7ea",
   "metadata": {
    "ExecuteTime": {
     "end_time": "2025-07-25T07:12:47.927738Z",
     "start_time": "2025-07-25T07:12:47.882444Z"
    }
   },
   "source": [
    "#initialize model, loss, optimizer\n",
    "device = torch.device(\"cuda\" if torch.cuda.is_available() else \"cpu\")\n",
    "torch.manual_seed(0)\n",
    "\n",
    "model = CNN().to(device)\n",
    "criterion = nn.CrossEntropyLoss()\n",
    "optimizer = optim.Adam(model.parameters(), lr=0.001)\n",
    "\n",
    "print(torch.cuda.is_available())\n",
    "# print(torch.__version__)"
   ],
   "outputs": [
    {
     "name": "stdout",
     "output_type": "stream",
     "text": [
      "True\n"
     ]
    }
   ],
   "execution_count": 19
  },
  {
   "cell_type": "code",
   "id": "41e6c2be",
   "metadata": {
    "ExecuteTime": {
     "end_time": "2025-07-25T07:14:39.413574Z",
     "start_time": "2025-07-25T07:12:48.020462Z"
    }
   },
   "source": [
    "#train the model\n",
    "epochs=5\n",
    "losses = []\n",
    "\n",
    "for epoch in range(epochs):\n",
    "    model.train()\n",
    "    total_loss=0\n",
    "\n",
    "    for images, labels in train_loader:\n",
    "        images, labels = images.to(device), labels.to(device)\n",
    "        outputs=model(images)\n",
    "        loss = criterion(outputs, labels)\n",
    "        optimizer.zero_grad()\n",
    "        loss.backward()\n",
    "        optimizer.step()\n",
    "        total_loss+=loss.item()\n",
    "    losses.append(total_loss)\n",
    "    print(f\"Epoch {epoch+1} Loss: {total_loss/len(train_loader)}\")\n",
    "\n"
   ],
   "outputs": [
    {
     "name": "stdout",
     "output_type": "stream",
     "text": [
      "Epoch 1 Loss: 0.10941191103536763\n",
      "Epoch 2 Loss: 0.03609510658976638\n",
      "Epoch 3 Loss: 0.024749438179662946\n",
      "Epoch 4 Loss: 0.018061095526173496\n",
      "Epoch 5 Loss: 0.01461133171047891\n"
     ]
    }
   ],
   "execution_count": 20
  },
  {
   "cell_type": "code",
   "id": "f2517790",
   "metadata": {
    "ExecuteTime": {
     "end_time": "2025-07-25T07:14:39.679712Z",
     "start_time": "2025-07-25T07:14:39.518127Z"
    }
   },
   "source": [
    "#graph\n",
    "plt.plot(range(epochs), losses)\n",
    "plt.xlabel('Epochs')\n",
    "plt.ylabel('Loss')"
   ],
   "outputs": [
    {
     "data": {
      "text/plain": [
       "Text(0, 0.5, 'Loss')"
      ]
     },
     "execution_count": 21,
     "metadata": {},
     "output_type": "execute_result"
    },
    {
     "data": {
      "text/plain": [
       "<Figure size 640x480 with 1 Axes>"
      ],
      "image/png": "[encoded data removed]"
     },
     "metadata": {},
     "output_type": "display_data"
    }
   ],
   "execution_count": 21
  },
  {
   "cell_type": "code",
   "id": "a0ccbb57",
   "metadata": {
    "ExecuteTime": {
     "end_time": "2025-07-25T07:14:42.964611Z",
     "start_time": "2025-07-25T07:14:39.825772Z"
    }
   },
   "source": [
    "#evaluate model\n",
    "model.eval()\n",
    "correct=0\n",
    "total=0\n",
    "with torch.no_grad():\n",
    "    for images,labels in test_loader:\n",
    "        images,labels= images.to(device), labels.to(device)\n",
    "        outputs=model(images)\n",
    "        _,preds= torch.max(outputs,1)\n",
    "        correct+= (preds==labels).sum().item()\n",
    "        total+=labels.size(0)\n",
    "\n",
    "    print(f\"Accuracy: {(100*correct)/total}%\")\n",
    "\n",
    "\n"
   ],
   "outputs": [
    {
     "name": "stdout",
     "output_type": "stream",
     "text": [
      "Accuracy: 99.3%\n"
     ]
    }
   ],
   "execution_count": 22
  }
 ],
 "metadata": {
  "kernelspec": {
   "display_name": "Python 3",
   "language": "python",
   "name": "python3"
  },
  "language_info": {
   "codemirror_mode": {
    "name": "ipython",
    "version": 3
   },
   "file_extension": ".py",
   "mimetype": "text/x-python",
   "name": "python",
   "nbconvert_exporter": "python",
   "pygments_lexer": "ipython3",
   "version": "3.13.5"
  }
 },
 "nbformat": 4,
 "nbformat_minor": 5
}
