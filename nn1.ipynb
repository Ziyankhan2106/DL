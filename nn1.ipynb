{
 "cells": [
  {
   "cell_type": "code",
   "execution_count": 1,
   "id": "c7517e05",
   "metadata": {},
   "outputs": [],
   "source": [
    "import torch\n",
    "import torch.nn as nn\n",
    "import torch.nn.functional as F"
   ]
  },
  {
   "cell_type": "code",
   "execution_count": 2,
   "id": "88a7db8a",
   "metadata": {},
   "outputs": [],
   "source": [
    "#Create model class that inherits nn.Module\n",
    "\n",
    "class Model(nn.Module):\n",
    "    #input layer(4 features of the flower) -->\n",
    "    #  hidden layer1 (H1) (some neurons)--> \n",
    "    # hidden layer2 (H2) --> \n",
    "    # output(3 classes of iris flower)\n",
    "    def __init__(self,input_features =4, h1=8,h2=8,output_classes=3):\n",
    "        self.fc1= nn.Linear(input_features,h1)\n",
    "        self.fc2= nn.Linear(h1,h2)\n",
    "        self.output= nn.Linear(h2,output_classes)\n",
    "    \n",
    "    def forward(self,x):\n",
    "        x=F.relu(self.fc1(x))\n",
    "        x=F.relu(self.fc2(x))\n",
    "        x=self.output(x)\n",
    "        return x\n",
    "\n",
    "    "
   ]
  },
  {
   "cell_type": "code",
   "execution_count": null,
   "id": "ae51a86d",
   "metadata": {},
   "outputs": [],
   "source": []
  }
 ],
 "metadata": {
  "kernelspec": {
   "display_name": "Python 3",
   "language": "python",
   "name": "python3"
  },
  "language_info": {
   "codemirror_mode": {
    "name": "ipython",
    "version": 3
   },
   "file_extension": ".py",
   "mimetype": "text/x-python",
   "name": "python",
   "nbconvert_exporter": "python",
   "pygments_lexer": "ipython3",
   "version": "3.13.5"
  }
 },
 "nbformat": 4,
 "nbformat_minor": 5
}
